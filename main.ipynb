{
 "cells": [
  {
   "cell_type": "code",
   "execution_count": 84,
   "metadata": {},
   "outputs": [],
   "source": [
    "import pandas as pd\n",
    "from pandas import DataFrame\n",
    "import time"
   ]
  },
  {
   "cell_type": "code",
   "execution_count": 85,
   "metadata": {},
   "outputs": [],
   "source": [
    "#Datenbank\n",
    "import sqlite3\n",
    "conn = sqlite3.connect(\"skat.db\")\n",
    "#datenbankverbindung\n",
    "cur = conn.cursor()"
   ]
  },
  {
   "cell_type": "code",
   "execution_count": 91,
   "metadata": {},
   "outputs": [],
   "source": [
    "#SPIEL HINZUFÜGEN:\n",
    "spiel = int(time.time())\n",
    "anzahl_runden, anzahl_punkte = 12,1000\n",
    "cur.execute(\"\"\"INSERT INTO spiel(datum, anzahl_runden, anzahl_punkte) VALUES(%s, %s, %s)\"\"\" % (spiel, anzahl_runden, anzahl_punkte))\n",
    "\n",
    "conn.commit()"
   ]
  },
  {
   "cell_type": "code",
   "execution_count": null,
   "metadata": {},
   "outputs": [],
   "source": []
  },
  {
   "cell_type": "code",
   "execution_count": 105,
   "metadata": {},
   "outputs": [],
   "source": [
    "class Spiel(object):\n",
    "    def __init__(self, anzahl_runden, anzahl_punkte):\n",
    "        self.id = id\n",
    "        self.datum = int(time.time())\n",
    "        self.anzahl_runden = anzahl_runden\n",
    "        self.anzahl_punkte = anzahl_punkte\n",
    "        \n",
    "    def get_runden(self, spiel_id):\n",
    "        return cur.execute(\"SELECT * FROM runde WHERE spiel_id = %d\" % (spiel_id)).fetchall()\n",
    "    \n",
    "    def create_dataframe_from_runden(self, spiel_id):\n",
    "        runden = self.get_runden(spiel_id)\n",
    "        id_spieler1, id_spieler2, id_spieler3 = 1,2,3 # TODO: hartes hardcoding beseitigen\n",
    "        # zeile[2] ist re-partei zeile[-1] entspricht Punkte\n",
    "        spieler_1 = [(zeile[-1] if zeile[2] == id_spieler1 else 0) for zeile in runden]\n",
    "        spieler_2 = [(zeile[-1] if zeile[2] == id_spieler2 else 0) for zeile in runden]\n",
    "        spieler_3 = [(zeile[-1] if zeile[2] == id_spieler3 else 0) for zeile in runden]\n",
    "        \n",
    "        punkte_tabelle = DataFrame({'Spieler1': spieler_1, 'Spieler2': spieler_2, 'Spieler3': spieler_3}, dtype=int)\n",
    "        #print(punkte_tabelle.to_html())\n",
    "        \n",
    "        return punkte_tabelle\n"
   ]
  },
  {
   "cell_type": "code",
   "execution_count": null,
   "metadata": {},
   "outputs": [],
   "source": []
  },
  {
   "cell_type": "code",
   "execution_count": 106,
   "metadata": {},
   "outputs": [
    {
     "data": {
      "text/html": [
       "<div>\n",
       "<style scoped>\n",
       "    .dataframe tbody tr th:only-of-type {\n",
       "        vertical-align: middle;\n",
       "    }\n",
       "\n",
       "    .dataframe tbody tr th {\n",
       "        vertical-align: top;\n",
       "    }\n",
       "\n",
       "    .dataframe thead th {\n",
       "        text-align: right;\n",
       "    }\n",
       "</style>\n",
       "<table border=\"1\" class=\"dataframe\">\n",
       "  <thead>\n",
       "    <tr style=\"text-align: right;\">\n",
       "      <th></th>\n",
       "      <th>Spieler1</th>\n",
       "      <th>Spieler2</th>\n",
       "      <th>Spieler3</th>\n",
       "    </tr>\n",
       "  </thead>\n",
       "  <tbody>\n",
       "    <tr>\n",
       "      <th>0</th>\n",
       "      <td>36</td>\n",
       "      <td>0</td>\n",
       "      <td>0</td>\n",
       "    </tr>\n",
       "    <tr>\n",
       "      <th>1</th>\n",
       "      <td>1</td>\n",
       "      <td>0</td>\n",
       "      <td>0</td>\n",
       "    </tr>\n",
       "    <tr>\n",
       "      <th>2</th>\n",
       "      <td>0</td>\n",
       "      <td>2</td>\n",
       "      <td>0</td>\n",
       "    </tr>\n",
       "    <tr>\n",
       "      <th>3</th>\n",
       "      <td>0</td>\n",
       "      <td>0</td>\n",
       "      <td>3</td>\n",
       "    </tr>\n",
       "  </tbody>\n",
       "</table>\n",
       "</div>"
      ],
      "text/plain": [
       "   Spieler1  Spieler2  Spieler3\n",
       "0        36         0         0\n",
       "1         1         0         0\n",
       "2         0         2         0\n",
       "3         0         0         3"
      ]
     },
     "execution_count": 106,
     "metadata": {},
     "output_type": "execute_result"
    }
   ],
   "source": [
    "spiel = Spiel(12,100)\n",
    "spiel.create_dataframe_from_runden(1)"
   ]
  },
  {
   "cell_type": "code",
   "execution_count": 95,
   "metadata": {},
   "outputs": [],
   "source": [
    "class Runde(object):\n",
    "    def __init__(self, id, spiel_id, re_partei, spielart, bock, re, kontra, mit, ohne, gewonnen, hand, ouvert, \n",
    "                 schneider, schneider_angesagt, schwarz, schwarz_angesagt, punkte):\n",
    "        self.id = id\n",
    "        self.spiel_id = spiel_id\n",
    "        self.re_partei = re_partei\n",
    "        self.spielart = spielart\n",
    "        self.bock = bock\n",
    "        self.re = re\n",
    "        self.kontra = kontra\n",
    "        self.mit = mit\n",
    "        self.ohne = ohne\n",
    "        self.gewonnen = gewonnen\n",
    "        self.hand = hand\n",
    "        self.ouvert = ouvert\n",
    "        self.schneider = schneider\n",
    "        self.schneider_angesagt = schneider_angesagt\n",
    "        self.schwarz = schwarz\n",
    "        self.schwarz_angesagt = schwarz_angesagt\n",
    "        self.punkte = punkte\n"
   ]
  },
  {
   "cell_type": "code",
   "execution_count": null,
   "metadata": {},
   "outputs": [],
   "source": []
  },
  {
   "cell_type": "code",
   "execution_count": null,
   "metadata": {},
   "outputs": [],
   "source": []
  },
  {
   "cell_type": "code",
   "execution_count": null,
   "metadata": {},
   "outputs": [],
   "source": []
  }
 ],
 "metadata": {
  "kernelspec": {
   "display_name": "Python 3",
   "language": "python",
   "name": "python3"
  },
  "language_info": {
   "codemirror_mode": {
    "name": "ipython",
    "version": 3
   },
   "file_extension": ".py",
   "mimetype": "text/x-python",
   "name": "python",
   "nbconvert_exporter": "python",
   "pygments_lexer": "ipython3",
   "version": "3.6.5"
  }
 },
 "nbformat": 4,
 "nbformat_minor": 2
}
