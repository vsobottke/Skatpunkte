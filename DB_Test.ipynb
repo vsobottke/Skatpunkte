{
 "cells": [
  {
   "cell_type": "code",
   "execution_count": 1,
   "metadata": {},
   "outputs": [],
   "source": [
    "import sqlite3\n",
    "conn = sqlite3.connect(\"skat.db\")\n",
    "#datenbankverbindung\n",
    "cur = conn.cursor()"
   ]
  },
  {
   "cell_type": "code",
   "execution_count": 2,
   "metadata": {},
   "outputs": [],
   "source": [
    "cur.execute(\"\"\" DROP TABLE IF EXISTS spieler \"\"\")\n",
    "cur.execute(\"\"\"CREATE TABLE spieler(\n",
    "    id INTEGER PRIMARY KEY AUTOINCREMENT,\n",
    "    name TEXT\n",
    ")\"\"\")\n",
    "conn.commit()"
   ]
  },
  {
   "cell_type": "code",
   "execution_count": 3,
   "metadata": {},
   "outputs": [],
   "source": [
    "cur.execute(\"\"\" DROP TABLE IF EXISTS spiel \"\"\")\n",
    "cur.execute(\"\"\"CREATE TABLE spiel(\n",
    "    id INTEGER PRIMARY KEY AUTOINCREMENT,\n",
    "    datum INTEGER,\n",
    "    anzahl_runden INTEGER,\n",
    "    anzahl_punkte INTEGER\n",
    ")\"\"\")\n",
    "conn.commit()"
   ]
  },
  {
   "cell_type": "code",
   "execution_count": 4,
   "metadata": {},
   "outputs": [],
   "source": [
    "cur.execute(\"\"\" DROP TABLE IF EXISTS runde \"\"\")\n",
    "# KLärung: Ist re-partei nicht eig. auch ein fremdschlüssel?\n",
    "cur.execute(\"\"\"CREATE TABLE runde(\n",
    "    id INTEGER PRIMARY KEY AUTOINCREMENT,\n",
    "    spiel_id INTEGER,\n",
    "    re_partei INTEGER,\n",
    "    spielart INTEGER,\n",
    "    bock INTEGER,\n",
    "    re INTEGER,\n",
    "    kontra INTEGER,\n",
    "    mit INTEGER,\n",
    "    ohne INTEGER,\n",
    "    gewonnen INTEGER,\n",
    "    hand INTEGER,\n",
    "    ouvert INTEGER,\n",
    "    schneider INTEGER,\n",
    "    schneider_angesagt INTEGER,\n",
    "    schwarz INTEGER,\n",
    "    schwarz_angesagt INTEGER,\n",
    "    punkte INTEGER,\n",
    "    FOREIGN KEY(spiel_id) REFERENCES spiel(id)\n",
    "\n",
    "    \n",
    ")\"\"\")\n",
    "conn.commit()"
   ]
  },
  {
   "cell_type": "code",
   "execution_count": 5,
   "metadata": {},
   "outputs": [],
   "source": [
    "cur.execute(\"\"\" DROP TABLE IF EXISTS spielerposition \"\"\")\n",
    "cur.execute(\"\"\"CREATE TABLE spielerposition(\n",
    "    spieler_id INTEGER,\n",
    "    runde_id INTEGER,\n",
    "    position INTEGER,\n",
    "    FOREIGN KEY(spieler_id) REFERENCES spieler(id),\n",
    "    FOREIGN KEY(runde_id) REFERENCES runde(id)\n",
    "    \n",
    "\n",
    ")\"\"\")\n",
    "conn.commit()"
   ]
  },
  {
   "cell_type": "code",
   "execution_count": 6,
   "metadata": {},
   "outputs": [],
   "source": [
    "#SPIELER HINZUFÜGEN:\n",
    "cur.execute(\"\"\"INSERT INTO spieler(name) VALUES(\"Player1\")\"\"\")\n",
    "cur.execute(\"\"\"INSERT INTO spieler(name) VALUES(\"Player2\")\"\"\")\n",
    "cur.execute(\"\"\"INSERT INTO spieler(name) VALUES(\"Player3\")\"\"\")\n",
    "\n",
    "conn.commit()"
   ]
  },
  {
   "cell_type": "code",
   "execution_count": 7,
   "metadata": {},
   "outputs": [],
   "source": [
    "#RUNDE HINZUFÜGEN:\n",
    "cur.execute(\"\"\"INSERT INTO runde(spiel_id, re_partei, spielart, bock, re, kontra, mit, ohne, gewonnen, \n",
    "hand, ouvert, schneider, schneider_angesagt, schwarz, schwarz_angesagt, \n",
    "punkte) \n",
    "VALUES(1, 3, 3, 0, 0, 0, 0, 2, 1, 0, 0, 0, 0, 0, 0, 3)\"\"\")\n",
    "conn.commit()"
   ]
  },
  {
   "cell_type": "code",
   "execution_count": 8,
   "metadata": {},
   "outputs": [],
   "source": [
    "#SPIEL HINZUFÜGEN:\n",
    "cur.execute(\"\"\"INSERT INTO spiel(datum, anzahl_runden, anzahl_punkte) VALUES(1541174821, 0, 1000)\"\"\")\n",
    "conn.commit()"
   ]
  },
  {
   "cell_type": "code",
   "execution_count": 9,
   "metadata": {},
   "outputs": [],
   "source": [
    "#POSITIONEN HINZUFÜGEN#\n",
    "cur.execute(\"\"\"INSERT INTO spielerposition(spieler_id, runde_id, position) VALUES(4,1,3)\"\"\")\n",
    "conn.commit()"
   ]
  },
  {
   "cell_type": "code",
   "execution_count": 12,
   "metadata": {},
   "outputs": [
    {
     "data": {
      "text/plain": [
       "[(1, 1, 3, 3, 0, 0, 0, 0, 2, 1, 0, 0, 0, 0, 0, 0, 3)]"
      ]
     },
     "execution_count": 12,
     "metadata": {},
     "output_type": "execute_result"
    }
   ],
   "source": [
    "cur.execute(\"SELECT * FROM runde where spiel_id =1\").fetchall()\n"
   ]
  },
  {
   "cell_type": "code",
   "execution_count": 13,
   "metadata": {},
   "outputs": [
    {
     "data": {
      "text/plain": [
       "[(1, 1541174821, 0, 1000)]"
      ]
     },
     "execution_count": 13,
     "metadata": {},
     "output_type": "execute_result"
    }
   ],
   "source": [
    "cur.execute(\"SELECT * FROM spiel\").fetchall()"
   ]
  },
  {
   "cell_type": "code",
   "execution_count": 11,
   "metadata": {},
   "outputs": [],
   "source": [
    "cur.execute('DELETE FROM spiel WHERE id>1')\n",
    "conn.commit()"
   ]
  },
  {
   "cell_type": "code",
   "execution_count": 13,
   "metadata": {},
   "outputs": [],
   "source": [
    "cur.execute('DELETE FROM runde')\n",
    "conn.commit()"
   ]
  },
  {
   "cell_type": "code",
   "execution_count": 14,
   "metadata": {},
   "outputs": [
    {
     "data": {
      "text/plain": [
       "[(1, 'Player1'), (2, 'Player2'), (3, 'Player3')]"
      ]
     },
     "execution_count": 14,
     "metadata": {},
     "output_type": "execute_result"
    }
   ],
   "source": [
    "(cur.execute(\"SELECT * FROM SPIELER\").fetchall())"
   ]
  }
 ],
 "metadata": {
  "kernelspec": {
   "display_name": "Python 3",
   "language": "python",
   "name": "python3"
  },
  "language_info": {
   "codemirror_mode": {
    "name": "ipython",
    "version": 3
   },
   "file_extension": ".py",
   "mimetype": "text/x-python",
   "name": "python",
   "nbconvert_exporter": "python",
   "pygments_lexer": "ipython3",
   "version": "3.7.1"
  }
 },
 "nbformat": 4,
 "nbformat_minor": 2
}
